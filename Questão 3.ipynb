{
 "cells": [
  {
   "cell_type": "code",
   "execution_count": 70,
   "id": "2e050b24",
   "metadata": {},
   "outputs": [],
   "source": [
    "import json"
   ]
  },
  {
   "cell_type": "code",
   "execution_count": 71,
   "id": "26c7e600",
   "metadata": {},
   "outputs": [],
   "source": [
    "with open('dados.json','r') as arquivo:\n",
    "    texto = arquivo.read()\n",
    "    dados = json.loads(texto)"
   ]
  },
  {
   "cell_type": "code",
   "execution_count": 72,
   "id": "a2d06ef4",
   "metadata": {},
   "outputs": [],
   "source": [
    "dados_JSON = json.dumps(dados, indent=1)"
   ]
  },
  {
   "cell_type": "code",
   "execution_count": 73,
   "id": "2e0609e8",
   "metadata": {},
   "outputs": [],
   "source": [
    "menor=0.0\n",
    "maior=0.0\n",
    "media=0.0\n",
    "cont_media=0\n",
    "for cont in dados:\n",
    "    if cont[\"valor\"]>0:\n",
    "        media+=cont[\"valor\"]\n",
    "        cont_media+=1\n",
    "        \n",
    "    if cont[\"valor\"]>maior:\n",
    "        maior=cont[\"valor\"]\n",
    "        \n",
    "        \n",
    "media/=cont_media"
   ]
  },
  {
   "cell_type": "code",
   "execution_count": 74,
   "id": "82a9fc8e",
   "metadata": {},
   "outputs": [],
   "source": [
    "maior_media=0\n",
    "for cont in dados:\n",
    "    if cont[\"valor\"]>media:\n",
    "        maior_media+=1"
   ]
  },
  {
   "cell_type": "code",
   "execution_count": 75,
   "id": "69f35365",
   "metadata": {},
   "outputs": [],
   "source": [
    "menor=maior\n",
    "for cont in dados:\n",
    "    if cont[\"valor\"]>0:\n",
    "        if cont[\"valor\"]<menor:\n",
    "            menor=cont[\"valor\"]"
   ]
  },
  {
   "cell_type": "code",
   "execution_count": 76,
   "id": "5b6f9c89",
   "metadata": {},
   "outputs": [
    {
     "name": "stdout",
     "output_type": "stream",
     "text": [
      "O menor valor de faturamento ocorrido em um dia do mês:  373.7838\n",
      "O maior valor de faturamento ocorrido em um dia do mês:  48924.2448\n",
      "Número de dias no mês em que o valor de faturamento diário foi superior à média mensal:  10\n"
     ]
    }
   ],
   "source": [
    "print('O menor valor de faturamento ocorrido em um dia do mês: ', menor)\n",
    "print('O maior valor de faturamento ocorrido em um dia do mês: ', maior)\n",
    "print('Número de dias no mês em que o valor de faturamento diário foi superior à média mensal: ', maior_media)"
   ]
  },
  {
   "cell_type": "code",
   "execution_count": null,
   "id": "70dd4f94",
   "metadata": {},
   "outputs": [],
   "source": []
  }
 ],
 "metadata": {
  "kernelspec": {
   "display_name": "Python 3 (ipykernel)",
   "language": "python",
   "name": "python3"
  },
  "language_info": {
   "codemirror_mode": {
    "name": "ipython",
    "version": 3
   },
   "file_extension": ".py",
   "mimetype": "text/x-python",
   "name": "python",
   "nbconvert_exporter": "python",
   "pygments_lexer": "ipython3",
   "version": "3.11.2"
  }
 },
 "nbformat": 4,
 "nbformat_minor": 5
}
