{
 "cells": [
  {
   "cell_type": "code",
   "execution_count": null,
   "id": "5b6c5a51",
   "metadata": {},
   "outputs": [],
   "source": [
    "numero = int(input(\"Informe um número: \"))"
   ]
  },
  {
   "cell_type": "code",
   "execution_count": null,
   "id": "6140be87",
   "metadata": {},
   "outputs": [],
   "source": [
    "def nFibonacci(num):\n",
    "\n",
    "  primeiro = 0\n",
    "  segundo = 1\n",
    "  terceiro = 0\n",
    "     \n",
    "  while terceiro < num:\n",
    "    terceiro = primeiro + segundo\n",
    "    primeiro = segundo\n",
    "    segundo = terceiro\n",
    "             \n",
    "  return terceiro == num"
   ]
  },
  {
   "cell_type": "code",
   "execution_count": null,
   "id": "991bf619",
   "metadata": {},
   "outputs": [],
   "source": [
    "if nFibonacci(numero):\n",
    "    print(\"Está na sequência\")\n",
    "else:\n",
    "    print(\"Não está na sequência\")"
   ]
  }
 ],
 "metadata": {
  "kernelspec": {
   "display_name": "Python 3 (ipykernel)",
   "language": "python",
   "name": "python3"
  },
  "language_info": {
   "codemirror_mode": {
    "name": "ipython",
    "version": 3
   },
   "file_extension": ".py",
   "mimetype": "text/x-python",
   "name": "python",
   "nbconvert_exporter": "python",
   "pygments_lexer": "ipython3",
   "version": "3.11.2"
  }
 },
 "nbformat": 4,
 "nbformat_minor": 5
}
