{
 "cells": [
  {
   "cell_type": "code",
   "execution_count": 1,
   "id": "d473cb90",
   "metadata": {},
   "outputs": [],
   "source": [
    "distribuidora = {\"SP\": 67836.43, \"RJ\": 36678.66, \"MG\": 29229.88, \"ES\": 27165.48, \"Outros\": 19849.53}"
   ]
  },
  {
   "cell_type": "code",
   "execution_count": 5,
   "id": "45bfe43b",
   "metadata": {},
   "outputs": [
    {
     "name": "stdout",
     "output_type": "stream",
     "text": [
      "dict_values([67836.43, 36678.66, 29229.88, 27165.48, 19849.53])\n"
     ]
    }
   ],
   "source": [
    "print(distribuidora.values())"
   ]
  },
  {
   "cell_type": "code",
   "execution_count": 10,
   "id": "455dca6a",
   "metadata": {},
   "outputs": [],
   "source": [
    "faturamento = sum(distribuidora.values())"
   ]
  },
  {
   "cell_type": "code",
   "execution_count": 11,
   "id": "0e9759e9",
   "metadata": {},
   "outputs": [
    {
     "name": "stdout",
     "output_type": "stream",
     "text": [
      "180759.98\n"
     ]
    }
   ],
   "source": [
    "print(faturamento)"
   ]
  },
  {
   "cell_type": "code",
   "execution_count": 18,
   "id": "4564129a",
   "metadata": {},
   "outputs": [
    {
     "name": "stdout",
     "output_type": "stream",
     "text": [
      "37.52845624346716\n",
      "20.291360952794975\n",
      "16.170548370275323\n",
      "15.028481414968068\n",
      "10.981153018494469\n"
     ]
    }
   ],
   "source": [
    "quotient = distribuidora['SP']/faturamento\n",
    "percent = quotient * 100\n",
    "print(percent)\n",
    "\n",
    "quotient = distribuidora['RJ']/faturamento\n",
    "percent = quotient * 100\n",
    "print(percent)\n",
    "\n",
    "quotient = distribuidora['MG']/faturamento\n",
    "percent = quotient * 100\n",
    "print(percent)\n",
    "\n",
    "quotient = distribuidora['ES']/faturamento\n",
    "percent = quotient * 100\n",
    "print(percent)\n",
    "\n",
    "quotient = distribuidora['Outros']/faturamento\n",
    "percent = quotient * 100\n",
    "print(percent)"
   ]
  },
  {
   "cell_type": "code",
   "execution_count": null,
   "id": "7305d6df",
   "metadata": {},
   "outputs": [],
   "source": []
  }
 ],
 "metadata": {
  "kernelspec": {
   "display_name": "Python 3 (ipykernel)",
   "language": "python",
   "name": "python3"
  },
  "language_info": {
   "codemirror_mode": {
    "name": "ipython",
    "version": 3
   },
   "file_extension": ".py",
   "mimetype": "text/x-python",
   "name": "python",
   "nbconvert_exporter": "python",
   "pygments_lexer": "ipython3",
   "version": "3.11.2"
  }
 },
 "nbformat": 4,
 "nbformat_minor": 5
}
